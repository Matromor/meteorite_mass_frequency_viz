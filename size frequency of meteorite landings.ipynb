{
 "cells": [
  {
   "cell_type": "markdown",
   "id": "263fdba1",
   "metadata": {},
   "source": [
    "# Intro\n",
    "This notebook is my attempt to analyze the mass frequency of meteorite impacts over the last 130 years (roughly). I pulled the data from open source datasets at data.gov under NASA's section. https://catalog.data.gov/dataset/meteorite-landings "
   ]
  },
  {
   "cell_type": "code",
   "execution_count": 353,
   "id": "ef15ce50",
   "metadata": {},
   "outputs": [],
   "source": [
    "from matplotlib import pyplot as plt"
   ]
  },
  {
   "cell_type": "code",
   "execution_count": 354,
   "id": "b883d79b",
   "metadata": {},
   "outputs": [],
   "source": [
    "import numpy as np"
   ]
  },
  {
   "cell_type": "markdown",
   "id": "e2067294",
   "metadata": {},
   "source": [
    "# Importing/Cleaning the Dataset"
   ]
  },
  {
   "cell_type": "code",
   "execution_count": 355,
   "id": "6b72db05",
   "metadata": {},
   "outputs": [
    {
     "data": {
      "text/html": [
       "<div>\n",
       "<style scoped>\n",
       "    .dataframe tbody tr th:only-of-type {\n",
       "        vertical-align: middle;\n",
       "    }\n",
       "\n",
       "    .dataframe tbody tr th {\n",
       "        vertical-align: top;\n",
       "    }\n",
       "\n",
       "    .dataframe thead th {\n",
       "        text-align: right;\n",
       "    }\n",
       "</style>\n",
       "<table border=\"1\" class=\"dataframe\">\n",
       "  <thead>\n",
       "    <tr style=\"text-align: right;\">\n",
       "      <th></th>\n",
       "      <th>name</th>\n",
       "      <th>id</th>\n",
       "      <th>nametype</th>\n",
       "      <th>recclass</th>\n",
       "      <th>mass_g</th>\n",
       "      <th>fall</th>\n",
       "      <th>year</th>\n",
       "      <th>reclat</th>\n",
       "      <th>reclong</th>\n",
       "      <th>GeoLocation</th>\n",
       "    </tr>\n",
       "  </thead>\n",
       "  <tbody>\n",
       "    <tr>\n",
       "      <th>0</th>\n",
       "      <td>Aachen</td>\n",
       "      <td>1</td>\n",
       "      <td>Valid</td>\n",
       "      <td>L5</td>\n",
       "      <td>21.0</td>\n",
       "      <td>Fell</td>\n",
       "      <td>1880.0</td>\n",
       "      <td>50.77500</td>\n",
       "      <td>6.08333</td>\n",
       "      <td>(50.775, 6.08333)</td>\n",
       "    </tr>\n",
       "    <tr>\n",
       "      <th>1</th>\n",
       "      <td>Aarhus</td>\n",
       "      <td>2</td>\n",
       "      <td>Valid</td>\n",
       "      <td>H6</td>\n",
       "      <td>720.0</td>\n",
       "      <td>Fell</td>\n",
       "      <td>1951.0</td>\n",
       "      <td>56.18333</td>\n",
       "      <td>10.23333</td>\n",
       "      <td>(56.18333, 10.23333)</td>\n",
       "    </tr>\n",
       "    <tr>\n",
       "      <th>2</th>\n",
       "      <td>Abee</td>\n",
       "      <td>6</td>\n",
       "      <td>Valid</td>\n",
       "      <td>EH4</td>\n",
       "      <td>107000.0</td>\n",
       "      <td>Fell</td>\n",
       "      <td>1952.0</td>\n",
       "      <td>54.21667</td>\n",
       "      <td>-113.00000</td>\n",
       "      <td>(54.21667, -113.0)</td>\n",
       "    </tr>\n",
       "    <tr>\n",
       "      <th>3</th>\n",
       "      <td>Acapulco</td>\n",
       "      <td>10</td>\n",
       "      <td>Valid</td>\n",
       "      <td>Acapulcoite</td>\n",
       "      <td>1914.0</td>\n",
       "      <td>Fell</td>\n",
       "      <td>1976.0</td>\n",
       "      <td>16.88333</td>\n",
       "      <td>-99.90000</td>\n",
       "      <td>(16.88333, -99.9)</td>\n",
       "    </tr>\n",
       "    <tr>\n",
       "      <th>4</th>\n",
       "      <td>Achiras</td>\n",
       "      <td>370</td>\n",
       "      <td>Valid</td>\n",
       "      <td>L6</td>\n",
       "      <td>780.0</td>\n",
       "      <td>Fell</td>\n",
       "      <td>1902.0</td>\n",
       "      <td>-33.16667</td>\n",
       "      <td>-64.95000</td>\n",
       "      <td>(-33.16667, -64.95)</td>\n",
       "    </tr>\n",
       "    <tr>\n",
       "      <th>...</th>\n",
       "      <td>...</td>\n",
       "      <td>...</td>\n",
       "      <td>...</td>\n",
       "      <td>...</td>\n",
       "      <td>...</td>\n",
       "      <td>...</td>\n",
       "      <td>...</td>\n",
       "      <td>...</td>\n",
       "      <td>...</td>\n",
       "      <td>...</td>\n",
       "    </tr>\n",
       "    <tr>\n",
       "      <th>45711</th>\n",
       "      <td>Zillah 002</td>\n",
       "      <td>31356</td>\n",
       "      <td>Valid</td>\n",
       "      <td>Eucrite</td>\n",
       "      <td>172.0</td>\n",
       "      <td>Found</td>\n",
       "      <td>1990.0</td>\n",
       "      <td>29.03700</td>\n",
       "      <td>17.01850</td>\n",
       "      <td>(29.037, 17.0185)</td>\n",
       "    </tr>\n",
       "    <tr>\n",
       "      <th>45712</th>\n",
       "      <td>Zinder</td>\n",
       "      <td>30409</td>\n",
       "      <td>Valid</td>\n",
       "      <td>Pallasite, ungrouped</td>\n",
       "      <td>46.0</td>\n",
       "      <td>Found</td>\n",
       "      <td>1999.0</td>\n",
       "      <td>13.78333</td>\n",
       "      <td>8.96667</td>\n",
       "      <td>(13.78333, 8.96667)</td>\n",
       "    </tr>\n",
       "    <tr>\n",
       "      <th>45713</th>\n",
       "      <td>Zlin</td>\n",
       "      <td>30410</td>\n",
       "      <td>Valid</td>\n",
       "      <td>H4</td>\n",
       "      <td>3.3</td>\n",
       "      <td>Found</td>\n",
       "      <td>1939.0</td>\n",
       "      <td>49.25000</td>\n",
       "      <td>17.66667</td>\n",
       "      <td>(49.25, 17.66667)</td>\n",
       "    </tr>\n",
       "    <tr>\n",
       "      <th>45714</th>\n",
       "      <td>Zubkovsky</td>\n",
       "      <td>31357</td>\n",
       "      <td>Valid</td>\n",
       "      <td>L6</td>\n",
       "      <td>2167.0</td>\n",
       "      <td>Found</td>\n",
       "      <td>2003.0</td>\n",
       "      <td>49.78917</td>\n",
       "      <td>41.50460</td>\n",
       "      <td>(49.78917, 41.5046)</td>\n",
       "    </tr>\n",
       "    <tr>\n",
       "      <th>45715</th>\n",
       "      <td>Zulu Queen</td>\n",
       "      <td>30414</td>\n",
       "      <td>Valid</td>\n",
       "      <td>L3.7</td>\n",
       "      <td>200.0</td>\n",
       "      <td>Found</td>\n",
       "      <td>1976.0</td>\n",
       "      <td>33.98333</td>\n",
       "      <td>-115.68333</td>\n",
       "      <td>(33.98333, -115.68333)</td>\n",
       "    </tr>\n",
       "  </tbody>\n",
       "</table>\n",
       "<p>45716 rows × 10 columns</p>\n",
       "</div>"
      ],
      "text/plain": [
       "             name     id nametype              recclass    mass_g   fall  \\\n",
       "0          Aachen      1    Valid                    L5      21.0   Fell   \n",
       "1          Aarhus      2    Valid                    H6     720.0   Fell   \n",
       "2            Abee      6    Valid                   EH4  107000.0   Fell   \n",
       "3        Acapulco     10    Valid           Acapulcoite    1914.0   Fell   \n",
       "4         Achiras    370    Valid                    L6     780.0   Fell   \n",
       "...           ...    ...      ...                   ...       ...    ...   \n",
       "45711  Zillah 002  31356    Valid               Eucrite     172.0  Found   \n",
       "45712      Zinder  30409    Valid  Pallasite, ungrouped      46.0  Found   \n",
       "45713        Zlin  30410    Valid                    H4       3.3  Found   \n",
       "45714   Zubkovsky  31357    Valid                    L6    2167.0  Found   \n",
       "45715  Zulu Queen  30414    Valid                  L3.7     200.0  Found   \n",
       "\n",
       "         year    reclat    reclong             GeoLocation  \n",
       "0      1880.0  50.77500    6.08333       (50.775, 6.08333)  \n",
       "1      1951.0  56.18333   10.23333    (56.18333, 10.23333)  \n",
       "2      1952.0  54.21667 -113.00000      (54.21667, -113.0)  \n",
       "3      1976.0  16.88333  -99.90000       (16.88333, -99.9)  \n",
       "4      1902.0 -33.16667  -64.95000     (-33.16667, -64.95)  \n",
       "...       ...       ...        ...                     ...  \n",
       "45711  1990.0  29.03700   17.01850       (29.037, 17.0185)  \n",
       "45712  1999.0  13.78333    8.96667     (13.78333, 8.96667)  \n",
       "45713  1939.0  49.25000   17.66667       (49.25, 17.66667)  \n",
       "45714  2003.0  49.78917   41.50460     (49.78917, 41.5046)  \n",
       "45715  1976.0  33.98333 -115.68333  (33.98333, -115.68333)  \n",
       "\n",
       "[45716 rows x 10 columns]"
      ]
     },
     "execution_count": 355,
     "metadata": {},
     "output_type": "execute_result"
    }
   ],
   "source": [
    "#Importing data from csv_file\n",
    "meteorite_landings_data = pandas.read_csv(\"Meteorite_Landings.csv\")\n",
    "meteorite_landings_data"
   ]
  },
  {
   "cell_type": "code",
   "execution_count": 356,
   "id": "ae7e4e45",
   "metadata": {},
   "outputs": [
    {
     "data": {
      "text/plain": [
       "0            21.0\n",
       "1           720.0\n",
       "2        107000.0\n",
       "3          1914.0\n",
       "4           780.0\n",
       "           ...   \n",
       "45711       172.0\n",
       "45712        46.0\n",
       "45713         3.3\n",
       "45714      2167.0\n",
       "45715       200.0\n",
       "Name: mass_g, Length: 45716, dtype: float64"
      ]
     },
     "execution_count": 356,
     "metadata": {},
     "output_type": "execute_result"
    }
   ],
   "source": [
    "# takes the mass column from the dataset, renamed from mass(g) to mass_g for ease of use.\n",
    "meteorite_masses = meteorite_landings_data['mass_g']\n",
    "meteorite_masses"
   ]
  },
  {
   "cell_type": "code",
   "execution_count": 357,
   "id": "ba4d0ac5",
   "metadata": {},
   "outputs": [],
   "source": [
    "# Finds total number of NaN values in meteorite mass_g column\n",
    "total_meteorites_no_mass_record = meteorite_masses.isna().sum() # total = 131\n",
    "# removes NaN values from meteorite mass_g column\n",
    "meteorite_masses.dropna(inplace = True)"
   ]
  },
  {
   "cell_type": "code",
   "execution_count": 358,
   "id": "fefe27a4",
   "metadata": {},
   "outputs": [
    {
     "data": {
      "text/plain": [
       "count    4.558500e+04\n",
       "mean     1.327808e+04\n",
       "std      5.749889e+05\n",
       "min      0.000000e+00\n",
       "25%      7.200000e+00\n",
       "50%      3.260000e+01\n",
       "75%      2.026000e+02\n",
       "max      6.000000e+07\n",
       "Name: mass_g, dtype: float64"
      ]
     },
     "execution_count": 358,
     "metadata": {},
     "output_type": "execute_result"
    }
   ],
   "source": [
    "# Updated description of dataset\n",
    "meteorite_masses.describe()"
   ]
  },
  {
   "cell_type": "markdown",
   "id": "8fd91edd",
   "metadata": {},
   "source": [
    "# Visualizations"
   ]
  },
  {
   "cell_type": "markdown",
   "id": "05cd08cd",
   "metadata": {},
   "source": [
    "This is where I ran into an issue.  In total there were 45,585 meteorites with a recorded mass in the dataset. 25% of those meteorites were at or below 7.2g, and 75% of them were either at or below 202.6g. \n",
    "\n",
    "However, there were 16 asteroids that had a mass greater than 6 million grams, reaching as high as 60 million. This  proved to make visualizing size frequency a lot more difficult without sacrificing larger impacts. "
   ]
  },
  {
   "cell_type": "markdown",
   "id": "383ce2ed",
   "metadata": {},
   "source": [
    "# Visualization 1: Boxplot"
   ]
  },
  {
   "cell_type": "markdown",
   "id": "4f231a46",
   "metadata": {},
   "source": [
    "My first attempt was a boxplot. My thought process was:\n",
    "1. Ability to see outliers while also seeing quartile range of data (<75%)\n",
    "\n",
    "2. Customizable to highlight necessary/desired details (quartile range, median, mean, etc...)\n",
    "\n",
    "This worked okay. It captures the range and broad frequency for the majority of majority of data. However it doesnt reveal very many details about the frequency distrubution itself."
   ]
  },
  {
   "cell_type": "code",
   "execution_count": 359,
   "id": "c983f0f1",
   "metadata": {},
   "outputs": [
    {
     "data": {
      "image/png": "[encoded data removed]",
      "text/plain": [
       "<Figure size 720x360 with 1 Axes>"
      ]
     },
     "metadata": {},
     "output_type": "display_data"
    }
   ],
   "source": [
    "import seaborn as sns\n",
    "\n",
    "#labeling\n",
    "plt.title('Meteorite Mass Frequency')\n",
    "plt.xlabel('Recorded Meteorites')\n",
    "plt.ylabel('Mass (g) distrubution of meteorites')\n",
    "plt.semilogy()\n",
    "\n",
    "#styling\n",
    "sns.set_style(\"whitegrid\")\n",
    "red_circle_outliers = dict(markerfacecolor='red', marker='o')\n",
    "vertical_offset = meteorite_masses.median() * 0.05 \n",
    "\n",
    "#creating boxplot\n",
    "plt.ylim(0.1, 100000000)\n",
    "boxplot = plt.boxplot(x=meteorite_masses, showmeans=True, flierprops=red_circle_outliers)"
   ]
  },
  {
   "cell_type": "markdown",
   "id": "c1fbc824",
   "metadata": {},
   "source": [
    "# Visualization 2: Histogram"
   ]
  },
  {
   "cell_type": "markdown",
   "id": "2ad3a640",
   "metadata": {},
   "source": [
    "This was my second attempt at visualization. \n",
    "I figured that histogram may give a better viewing of the frequency distrubtion, however I ran into the same issue\n",
    "that I had with the small number of large outliers.\n",
    "\n",
    "In addition, the default bins were confusing. x axis units of 6000000 in e notation isn't what I like to call easy to read. Still, a histogram seems? a better choice for visualizing the frequency distributions."
   ]
  },
  {
   "cell_type": "code",
   "execution_count": 360,
   "id": "fdd25cbd",
   "metadata": {
    "scrolled": true
   },
   "outputs": [
    {
     "data": {
      "text/plain": [
       "(array([4.5569e+04, 4.0000e+00, 2.0000e+00, 2.0000e+00, 4.0000e+00,\n",
       "        1.0000e+00, 0.0000e+00, 0.0000e+00, 1.0000e+00, 2.0000e+00]),\n",
       " array([       0.,  6000000., 12000000., 18000000., 24000000., 30000000.,\n",
       "        36000000., 42000000., 48000000., 54000000., 60000000.]),\n",
       " <BarContainer object of 10 artists>)"
      ]
     },
     "execution_count": 360,
     "metadata": {},
     "output_type": "execute_result"
    },
    {
     "data": {
      "image/png": "[encoded data removed]",
      "text/plain": [
       "<Figure size 720x360 with 1 Axes>"
      ]
     },
     "metadata": {},
     "output_type": "display_data"
    }
   ],
   "source": [
    "plt.title('Meteorite Mass Frequency')\n",
    "plt.xlabel('Mass (grams * 6 million)')\n",
    "plt.ylabel('Total number of meteorites')\n",
    "median = 3.260000e+01\n",
    "histogram = plt.hist(meteorite_masses, edgecolor='black', log=True)\n",
    "plt.hist(meteorite_masses)"
   ]
  },
  {
   "cell_type": "markdown",
   "id": "20dd9c38",
   "metadata": {},
   "source": [
    "# Assumptions/Changes\n",
    "1. I changed the column title in the dataset from mass(g) to mass_g\n",
    "2. I removed an NaN values from the mass_g column\n",
    "3. I assumed these visualizations made the most sense for the skewed distrbution + outliers."
   ]
  },
  {
   "cell_type": "markdown",
   "id": "91738c98",
   "metadata": {},
   "source": [
    "# Improvement/Next Steps\n",
    "\n",
    "1. I spent a lot of time trying to find a visualization that can account for a small amount of extremely high outliers. This meant I spent less time adding/refining visual details, and a lot more time trying to make the data visually useful in the first place.\n",
    " \n",
    "2. I didn't provide a year range for my data which may have made the distrubution a little more interesting or precise. I'm also curious if growing technical prowess to detect meteorite impacts skews the date range a certain way. Only time and Metorite_Landings_notebook_2 may tell. The date range for the data would need to be parsed and updated however, since I don't think that the correct range is from 860 to 2101 A.D.\n",
    "\n",
    "3. This took me roughly 8-12 hours without prior knowledge of juypter notebooks, pandas, matplotlib, so if everything looks amateurish, it most definitely is. However I did really like the tools/libraries and would like explore them more, so any specific tips would be appreciated."
   ]
  },
  {
   "cell_type": "markdown",
   "id": "9e65c190",
   "metadata": {},
   "source": [
    "# Conclusion:\n",
    "Most meteoroids are small. But we shouldn't forget about the ones that aren't."
   ]
  }
 ],
 "metadata": {
  "kernelspec": {
   "display_name": "Python 3 (ipykernel)",
   "language": "python",
   "name": "python3"
  },
  "language_info": {
   "codemirror_mode": {
    "name": "ipython",
    "version": 3
   },
   "file_extension": ".py",
   "mimetype": "text/x-python",
   "name": "python",
   "nbconvert_exporter": "python",
   "pygments_lexer": "ipython3",
   "version": "3.9.12"
  }
 },
 "nbformat": 4,
 "nbformat_minor": 5
}
